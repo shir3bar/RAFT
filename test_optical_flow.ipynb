{
 "cells": [
  {
   "cell_type": "code",
   "execution_count": 8,
   "outputs": [],
   "source": [
    "import sys\n",
    "sys.path.append('core')\n",
    "import argparse\n",
    "import os\n",
    "import cv2\n",
    "import glob\n",
    "import numpy as np\n",
    "import torch\n",
    "from PIL import Image\n",
    "\n",
    "from raft import RAFT\n",
    "from utils import flow_viz\n",
    "from utils import flow_viz\n",
    "from utils.utils import InputPadder\n",
    "\n",
    "import imageio.v3 as imageio"
   ],
   "metadata": {
    "collapsed": false,
    "ExecuteTime": {
     "start_time": "2023-04-10T14:38:41.632552Z",
     "end_time": "2023-04-10T14:38:41.679520Z"
    }
   }
  },
  {
   "cell_type": "code",
   "execution_count": 2,
   "outputs": [],
   "source": [
    "DEVICE = 'cuda'"
   ],
   "metadata": {
    "collapsed": false,
    "ExecuteTime": {
     "start_time": "2023-04-10T14:26:38.287159Z",
     "end_time": "2023-04-10T14:26:38.293357Z"
    }
   }
  },
  {
   "cell_type": "code",
   "execution_count": 3,
   "outputs": [
    {
     "data": {
      "text/plain": "RAFT(\n  (fnet): SmallEncoder(\n    (norm1): InstanceNorm2d(32, eps=1e-05, momentum=0.1, affine=False, track_running_stats=False)\n    (conv1): Conv2d(3, 32, kernel_size=(7, 7), stride=(2, 2), padding=(3, 3))\n    (relu1): ReLU(inplace=True)\n    (layer1): Sequential(\n      (0): BottleneckBlock(\n        (conv1): Conv2d(32, 8, kernel_size=(1, 1), stride=(1, 1))\n        (conv2): Conv2d(8, 8, kernel_size=(3, 3), stride=(1, 1), padding=(1, 1))\n        (conv3): Conv2d(8, 32, kernel_size=(1, 1), stride=(1, 1))\n        (relu): ReLU(inplace=True)\n        (norm1): InstanceNorm2d(8, eps=1e-05, momentum=0.1, affine=False, track_running_stats=False)\n        (norm2): InstanceNorm2d(8, eps=1e-05, momentum=0.1, affine=False, track_running_stats=False)\n        (norm3): InstanceNorm2d(32, eps=1e-05, momentum=0.1, affine=False, track_running_stats=False)\n      )\n      (1): BottleneckBlock(\n        (conv1): Conv2d(32, 8, kernel_size=(1, 1), stride=(1, 1))\n        (conv2): Conv2d(8, 8, kernel_size=(3, 3), stride=(1, 1), padding=(1, 1))\n        (conv3): Conv2d(8, 32, kernel_size=(1, 1), stride=(1, 1))\n        (relu): ReLU(inplace=True)\n        (norm1): InstanceNorm2d(8, eps=1e-05, momentum=0.1, affine=False, track_running_stats=False)\n        (norm2): InstanceNorm2d(8, eps=1e-05, momentum=0.1, affine=False, track_running_stats=False)\n        (norm3): InstanceNorm2d(32, eps=1e-05, momentum=0.1, affine=False, track_running_stats=False)\n      )\n    )\n    (layer2): Sequential(\n      (0): BottleneckBlock(\n        (conv1): Conv2d(32, 16, kernel_size=(1, 1), stride=(1, 1))\n        (conv2): Conv2d(16, 16, kernel_size=(3, 3), stride=(2, 2), padding=(1, 1))\n        (conv3): Conv2d(16, 64, kernel_size=(1, 1), stride=(1, 1))\n        (relu): ReLU(inplace=True)\n        (norm1): InstanceNorm2d(16, eps=1e-05, momentum=0.1, affine=False, track_running_stats=False)\n        (norm2): InstanceNorm2d(16, eps=1e-05, momentum=0.1, affine=False, track_running_stats=False)\n        (norm3): InstanceNorm2d(64, eps=1e-05, momentum=0.1, affine=False, track_running_stats=False)\n        (norm4): InstanceNorm2d(64, eps=1e-05, momentum=0.1, affine=False, track_running_stats=False)\n        (downsample): Sequential(\n          (0): Conv2d(32, 64, kernel_size=(1, 1), stride=(2, 2))\n          (1): InstanceNorm2d(64, eps=1e-05, momentum=0.1, affine=False, track_running_stats=False)\n        )\n      )\n      (1): BottleneckBlock(\n        (conv1): Conv2d(64, 16, kernel_size=(1, 1), stride=(1, 1))\n        (conv2): Conv2d(16, 16, kernel_size=(3, 3), stride=(1, 1), padding=(1, 1))\n        (conv3): Conv2d(16, 64, kernel_size=(1, 1), stride=(1, 1))\n        (relu): ReLU(inplace=True)\n        (norm1): InstanceNorm2d(16, eps=1e-05, momentum=0.1, affine=False, track_running_stats=False)\n        (norm2): InstanceNorm2d(16, eps=1e-05, momentum=0.1, affine=False, track_running_stats=False)\n        (norm3): InstanceNorm2d(64, eps=1e-05, momentum=0.1, affine=False, track_running_stats=False)\n      )\n    )\n    (layer3): Sequential(\n      (0): BottleneckBlock(\n        (conv1): Conv2d(64, 24, kernel_size=(1, 1), stride=(1, 1))\n        (conv2): Conv2d(24, 24, kernel_size=(3, 3), stride=(2, 2), padding=(1, 1))\n        (conv3): Conv2d(24, 96, kernel_size=(1, 1), stride=(1, 1))\n        (relu): ReLU(inplace=True)\n        (norm1): InstanceNorm2d(24, eps=1e-05, momentum=0.1, affine=False, track_running_stats=False)\n        (norm2): InstanceNorm2d(24, eps=1e-05, momentum=0.1, affine=False, track_running_stats=False)\n        (norm3): InstanceNorm2d(96, eps=1e-05, momentum=0.1, affine=False, track_running_stats=False)\n        (norm4): InstanceNorm2d(96, eps=1e-05, momentum=0.1, affine=False, track_running_stats=False)\n        (downsample): Sequential(\n          (0): Conv2d(64, 96, kernel_size=(1, 1), stride=(2, 2))\n          (1): InstanceNorm2d(96, eps=1e-05, momentum=0.1, affine=False, track_running_stats=False)\n        )\n      )\n      (1): BottleneckBlock(\n        (conv1): Conv2d(96, 24, kernel_size=(1, 1), stride=(1, 1))\n        (conv2): Conv2d(24, 24, kernel_size=(3, 3), stride=(1, 1), padding=(1, 1))\n        (conv3): Conv2d(24, 96, kernel_size=(1, 1), stride=(1, 1))\n        (relu): ReLU(inplace=True)\n        (norm1): InstanceNorm2d(24, eps=1e-05, momentum=0.1, affine=False, track_running_stats=False)\n        (norm2): InstanceNorm2d(24, eps=1e-05, momentum=0.1, affine=False, track_running_stats=False)\n        (norm3): InstanceNorm2d(96, eps=1e-05, momentum=0.1, affine=False, track_running_stats=False)\n      )\n    )\n    (conv2): Conv2d(96, 128, kernel_size=(1, 1), stride=(1, 1))\n  )\n  (cnet): SmallEncoder(\n    (norm1): Sequential()\n    (conv1): Conv2d(3, 32, kernel_size=(7, 7), stride=(2, 2), padding=(3, 3))\n    (relu1): ReLU(inplace=True)\n    (layer1): Sequential(\n      (0): BottleneckBlock(\n        (conv1): Conv2d(32, 8, kernel_size=(1, 1), stride=(1, 1))\n        (conv2): Conv2d(8, 8, kernel_size=(3, 3), stride=(1, 1), padding=(1, 1))\n        (conv3): Conv2d(8, 32, kernel_size=(1, 1), stride=(1, 1))\n        (relu): ReLU(inplace=True)\n        (norm1): Sequential()\n        (norm2): Sequential()\n        (norm3): Sequential()\n      )\n      (1): BottleneckBlock(\n        (conv1): Conv2d(32, 8, kernel_size=(1, 1), stride=(1, 1))\n        (conv2): Conv2d(8, 8, kernel_size=(3, 3), stride=(1, 1), padding=(1, 1))\n        (conv3): Conv2d(8, 32, kernel_size=(1, 1), stride=(1, 1))\n        (relu): ReLU(inplace=True)\n        (norm1): Sequential()\n        (norm2): Sequential()\n        (norm3): Sequential()\n      )\n    )\n    (layer2): Sequential(\n      (0): BottleneckBlock(\n        (conv1): Conv2d(32, 16, kernel_size=(1, 1), stride=(1, 1))\n        (conv2): Conv2d(16, 16, kernel_size=(3, 3), stride=(2, 2), padding=(1, 1))\n        (conv3): Conv2d(16, 64, kernel_size=(1, 1), stride=(1, 1))\n        (relu): ReLU(inplace=True)\n        (norm1): Sequential()\n        (norm2): Sequential()\n        (norm3): Sequential()\n        (norm4): Sequential()\n        (downsample): Sequential(\n          (0): Conv2d(32, 64, kernel_size=(1, 1), stride=(2, 2))\n          (1): Sequential()\n        )\n      )\n      (1): BottleneckBlock(\n        (conv1): Conv2d(64, 16, kernel_size=(1, 1), stride=(1, 1))\n        (conv2): Conv2d(16, 16, kernel_size=(3, 3), stride=(1, 1), padding=(1, 1))\n        (conv3): Conv2d(16, 64, kernel_size=(1, 1), stride=(1, 1))\n        (relu): ReLU(inplace=True)\n        (norm1): Sequential()\n        (norm2): Sequential()\n        (norm3): Sequential()\n      )\n    )\n    (layer3): Sequential(\n      (0): BottleneckBlock(\n        (conv1): Conv2d(64, 24, kernel_size=(1, 1), stride=(1, 1))\n        (conv2): Conv2d(24, 24, kernel_size=(3, 3), stride=(2, 2), padding=(1, 1))\n        (conv3): Conv2d(24, 96, kernel_size=(1, 1), stride=(1, 1))\n        (relu): ReLU(inplace=True)\n        (norm1): Sequential()\n        (norm2): Sequential()\n        (norm3): Sequential()\n        (norm4): Sequential()\n        (downsample): Sequential(\n          (0): Conv2d(64, 96, kernel_size=(1, 1), stride=(2, 2))\n          (1): Sequential()\n        )\n      )\n      (1): BottleneckBlock(\n        (conv1): Conv2d(96, 24, kernel_size=(1, 1), stride=(1, 1))\n        (conv2): Conv2d(24, 24, kernel_size=(3, 3), stride=(1, 1), padding=(1, 1))\n        (conv3): Conv2d(24, 96, kernel_size=(1, 1), stride=(1, 1))\n        (relu): ReLU(inplace=True)\n        (norm1): Sequential()\n        (norm2): Sequential()\n        (norm3): Sequential()\n      )\n    )\n    (conv2): Conv2d(96, 160, kernel_size=(1, 1), stride=(1, 1))\n  )\n  (update_block): SmallUpdateBlock(\n    (encoder): SmallMotionEncoder(\n      (convc1): Conv2d(196, 96, kernel_size=(1, 1), stride=(1, 1))\n      (convf1): Conv2d(2, 64, kernel_size=(7, 7), stride=(1, 1), padding=(3, 3))\n      (convf2): Conv2d(64, 32, kernel_size=(3, 3), stride=(1, 1), padding=(1, 1))\n      (conv): Conv2d(128, 80, kernel_size=(3, 3), stride=(1, 1), padding=(1, 1))\n    )\n    (gru): ConvGRU(\n      (convz): Conv2d(242, 96, kernel_size=(3, 3), stride=(1, 1), padding=(1, 1))\n      (convr): Conv2d(242, 96, kernel_size=(3, 3), stride=(1, 1), padding=(1, 1))\n      (convq): Conv2d(242, 96, kernel_size=(3, 3), stride=(1, 1), padding=(1, 1))\n    )\n    (flow_head): FlowHead(\n      (conv1): Conv2d(96, 128, kernel_size=(3, 3), stride=(1, 1), padding=(1, 1))\n      (conv2): Conv2d(128, 2, kernel_size=(3, 3), stride=(1, 1), padding=(1, 1))\n      (relu): ReLU(inplace=True)\n    )\n  )\n)"
     },
     "execution_count": 3,
     "metadata": {},
     "output_type": "execute_result"
    }
   ],
   "source": [
    "class Args():\n",
    "    def __init__(self, small=False,mixed_precision=False,alternate_corr=False):\n",
    "        self.small=small\n",
    "        self.mixed_precision = mixed_precision\n",
    "        self.alternate_corr = alternate_corr\n",
    "        self.params = ['small', 'mixed_precision','alternate_corr']\n",
    "    def __contains__(self, item):\n",
    "        return item in self.params\n",
    "\n",
    "args = Args(small=True)\n",
    "model = torch.nn.DataParallel(RAFT(args))\n",
    "model.load_state_dict(torch.load('/media/shirbar/DATA/codes/RAFT/models/raft-small.pth'))\n",
    "\n",
    "model = model.module\n",
    "model.to(DEVICE)\n",
    "model.eval()"
   ],
   "metadata": {
    "collapsed": false,
    "ExecuteTime": {
     "start_time": "2023-04-10T14:26:39.121591Z",
     "end_time": "2023-04-10T14:26:41.225981Z"
    }
   }
  },
  {
   "cell_type": "code",
   "execution_count": 36,
   "outputs": [],
   "source": [
    "vid=imageio.imread('/media/shirbar/DATA/codes/pips/feeding.avi',plugin='pyav')\n",
    "vid = vid.astype(np.uint8)\n",
    "#vid.shape"
   ],
   "metadata": {
    "collapsed": false,
    "ExecuteTime": {
     "start_time": "2023-04-10T15:08:55.357302Z",
     "end_time": "2023-04-10T15:08:55.422562Z"
    }
   }
  },
  {
   "cell_type": "code",
   "execution_count": 7,
   "outputs": [
    {
     "data": {
      "text/plain": "(40, 400, 400, 3)"
     },
     "execution_count": 7,
     "metadata": {},
     "output_type": "execute_result"
    }
   ],
   "source": [
    "vid[:-1,...].shape"
   ],
   "metadata": {
    "collapsed": false,
    "ExecuteTime": {
     "start_time": "2023-04-10T14:36:01.711593Z",
     "end_time": "2023-04-10T14:36:01.721288Z"
    }
   }
  },
  {
   "cell_type": "code",
   "execution_count": 63,
   "outputs": [],
   "source": [
    "def viz(img, flo):\n",
    "    img = img[0].permute(1,2,0).cpu().numpy()\n",
    "    flo = flo[0].permute(1,2,0).cpu().numpy()\n",
    "\n",
    "    # map flow to rgb image\n",
    "    flo = flow_viz.flow_to_image(flo)\n",
    "    img_flo = np.concatenate([img, flo], axis=0)\n",
    "    return img_flo"
   ],
   "metadata": {
    "collapsed": false,
    "ExecuteTime": {
     "start_time": "2023-04-10T15:17:56.579966Z",
     "end_time": "2023-04-10T15:17:56.591336Z"
    }
   }
  },
  {
   "cell_type": "code",
   "execution_count": 66,
   "outputs": [],
   "source": [
    "load_image = lambda img: torch.from_numpy(img).permute(2, 0, 1).float()[None].to(DEVICE)\n",
    "flo_images = []\n",
    "with torch.no_grad():\n",
    "    for im1, im2 in zip(vid[0:40:5,...], vid[1:41:5,...]):\n",
    "        image1 = load_image(im1)\n",
    "        image2 = load_image(im2)\n",
    "\n",
    "        padder = InputPadder(image1.shape)\n",
    "        image1, image2 = padder.pad(image1, image2)\n",
    "\n",
    "        flow_low, flow_up = model(image1, image2, iters=20, test_mode=True)\n",
    "        flo_images.append(viz(image1, flow_up))\n"
   ],
   "metadata": {
    "collapsed": false,
    "ExecuteTime": {
     "start_time": "2023-04-10T15:21:30.275940Z",
     "end_time": "2023-04-10T15:21:30.993672Z"
    }
   }
  },
  {
   "cell_type": "code",
   "execution_count": 67,
   "outputs": [
    {
     "data": {
      "text/plain": "(torch.Size([1, 3, 400, 400]), torch.Size([1, 3, 400, 400]))"
     },
     "execution_count": 67,
     "metadata": {},
     "output_type": "execute_result"
    }
   ],
   "source": [
    "image1.shape,image2.shape"
   ],
   "metadata": {
    "collapsed": false,
    "ExecuteTime": {
     "start_time": "2023-04-10T15:21:35.019635Z",
     "end_time": "2023-04-10T15:21:35.045549Z"
    }
   }
  },
  {
   "cell_type": "code",
   "execution_count": 68,
   "outputs": [],
   "source": [
    "flo_images = [Image.fromarray(img.astype(np.uint8)) for img in flo_images]\n",
    "out_fn = './raft_test_8frames.gif'\n",
    "flo_images[0].save(out_fn, save_all=True, append_images=flo_images[1:])"
   ],
   "metadata": {
    "collapsed": false,
    "ExecuteTime": {
     "start_time": "2023-04-10T15:21:43.367113Z",
     "end_time": "2023-04-10T15:21:43.878550Z"
    }
   }
  },
  {
   "cell_type": "code",
   "execution_count": 62,
   "outputs": [
    {
     "name": "stdout",
     "output_type": "stream",
     "text": [
      "float32 (800, 400, 3)\n",
      "float32 (800, 400, 3)\n",
      "float32 (800, 400, 3)\n",
      "float32 (800, 400, 3)\n",
      "float32 (800, 400, 3)\n",
      "float32 (800, 400, 3)\n",
      "float32 (800, 400, 3)\n",
      "float32 (800, 400, 3)\n",
      "float32 (800, 400, 3)\n",
      "float32 (800, 400, 3)\n",
      "float32 (800, 400, 3)\n",
      "float32 (800, 400, 3)\n",
      "float32 (800, 400, 3)\n",
      "float32 (800, 400, 3)\n",
      "float32 (800, 400, 3)\n",
      "float32 (800, 400, 3)\n",
      "float32 (800, 400, 3)\n",
      "float32 (800, 400, 3)\n",
      "float32 (800, 400, 3)\n",
      "float32 (800, 400, 3)\n",
      "float32 (800, 400, 3)\n",
      "float32 (800, 400, 3)\n",
      "float32 (800, 400, 3)\n",
      "float32 (800, 400, 3)\n",
      "float32 (800, 400, 3)\n",
      "float32 (800, 400, 3)\n",
      "float32 (800, 400, 3)\n",
      "float32 (800, 400, 3)\n",
      "float32 (800, 400, 3)\n",
      "float32 (800, 400, 3)\n",
      "float32 (800, 400, 3)\n",
      "float32 (800, 400, 3)\n",
      "float32 (800, 400, 3)\n",
      "float32 (800, 400, 3)\n",
      "float32 (800, 400, 3)\n",
      "float32 (800, 400, 3)\n",
      "float32 (800, 400, 3)\n",
      "float32 (800, 400, 3)\n",
      "float32 (800, 400, 3)\n",
      "float32 (800, 400, 3)\n"
     ]
    }
   ],
   "source": [
    "for i in range(len(flo_images)):\n",
    "    print(flo_images[i].dtype,flo_images[i].shape)"
   ],
   "metadata": {
    "collapsed": false,
    "ExecuteTime": {
     "start_time": "2023-04-10T15:16:01.628998Z",
     "end_time": "2023-04-10T15:16:01.641609Z"
    }
   }
  },
  {
   "cell_type": "code",
   "execution_count": 48,
   "outputs": [
    {
     "data": {
      "text/plain": "<matplotlib.image.AxesImage at 0x7f90b8cf3bd0>"
     },
     "execution_count": 48,
     "metadata": {},
     "output_type": "execute_result"
    },
    {
     "data": {
      "text/plain": "<Figure size 640x480 with 1 Axes>",
      "image/png": "[encoded data removed]"
     },
     "metadata": {},
     "output_type": "display_data"
    }
   ],
   "source": [
    "import matplotlib.pyplot as plt\n",
    "\n",
    "plt.imshow(flo_images[10])"
   ],
   "metadata": {
    "collapsed": false,
    "ExecuteTime": {
     "start_time": "2023-04-10T15:11:22.485431Z",
     "end_time": "2023-04-10T15:11:22.778631Z"
    }
   }
  },
  {
   "cell_type": "code",
   "execution_count": 25,
   "outputs": [
    {
     "data": {
      "text/plain": "0.0"
     },
     "execution_count": 25,
     "metadata": {},
     "output_type": "execute_result"
    }
   ],
   "source": [
    "flo_images[12].min()"
   ],
   "metadata": {
    "collapsed": false,
    "ExecuteTime": {
     "start_time": "2023-04-10T15:05:24.554835Z",
     "end_time": "2023-04-10T15:05:24.577730Z"
    }
   }
  },
  {
   "cell_type": "code",
   "execution_count": null,
   "outputs": [],
   "source": [],
   "metadata": {
    "collapsed": false
   }
  }
 ],
 "metadata": {
  "kernelspec": {
   "display_name": "Python 3",
   "language": "python",
   "name": "python3"
  },
  "language_info": {
   "codemirror_mode": {
    "name": "ipython",
    "version": 2
   },
   "file_extension": ".py",
   "mimetype": "text/x-python",
   "name": "python",
   "nbconvert_exporter": "python",
   "pygments_lexer": "ipython2",
   "version": "2.7.6"
  }
 },
 "nbformat": 4,
 "nbformat_minor": 0
}
